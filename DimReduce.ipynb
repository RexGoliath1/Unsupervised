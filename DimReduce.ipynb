{
 "cells": [
  {
   "cell_type": "markdown",
   "metadata": {},
   "source": [
    "# PCA Parameters\n",
    "<b>n_components</b> : Number of components to keep.<br>\n",
    "Use Minka's MLE if n_components='mle; & svd_solver=='full' to guess dimension.\n",
    "\n",
    "\n",
    "<b>copy</b> : Make copy of data, so it is not overwritten with fit. Use fit_transform otherwise.\n",
    "\n",
    "<b>whiten</b> : If true, components_ vectors are multiplied by sqrt(n_samples) and divided by singular values to ensure uncorrelated outputs with unit component--wise vectors.<br>\n",
    "<i>Warning:</i> Removes info, but can imporve preditive accuracy by making data respect hard-wired assumptions\n",
    "\n",
    "<b>svd_solver</b> : Singular Value Decomposition (Lower Dim. Projection Technique)\n",
    "\n",
    "<i>svd_solver</i>=='auto': Default policy based on X.shape and n_components. Randomized if large and n_components is < 80%. Else Full\n",
    "\n",
    "<i>svd_solver=='full'</i> : Number of components such that the amount of variance that needs to be explained is greater than % specified.\n",
    "\n",
    "<i>svd_solver=='randomized'</i> : Halko Method\n",
    "\n",
    "<b>iterated_power</b> : Number of iterations for power method computed by svd_solver == 'randomized'.\n",
    "\n",
    "<b>random_state</b> : Random Seed used by randomized.\n",
    "\n",
    "# PCA Attributes\n",
    "<b>components_</b> : Principal axes in feature space, represents directions of maximum variance in data.\n",
    "\n",
    "<b>explained__variance__</b> : Amount of variance explained by each of the selected components.\n",
    "\n",
    "<b>explained__variance_ratio__</b> : Percent of variance explained by each selected components.\n",
    "\n",
    "<b>mean_</b> : Estimated number of components. When set to mle or 0 < n_components < 1, number is estimated from input data. Otherwise it equals parameter n_components.\n",
    "\n",
    "<b>noise_variance</b> : Estimated noise covariance from Bishop PCA.\n"
   ]
  },
  {
   "cell_type": "code",
   "execution_count": 1,
   "metadata": {
    "collapsed": true
   },
   "outputs": [],
   "source": [
    "import matplotlib.pyplot as plt\n",
    "import pandas as pd\n",
    "import numpy as np\n",
    "from sklearn.feature_selection import VarianceThreshold\n",
    "from sklearn.preprocessing import normalize\n",
    "from sklearn.decomposition import PCA"
   ]
  },
  {
   "cell_type": "code",
   "execution_count": 3,
   "metadata": {
    "collapsed": true
   },
   "outputs": [],
   "source": [
    "# Interested in Feature space with > 99% Variance\n",
    "def pca_train_viz(x_train):\n",
    "    y_train = x_train[\"TARGET\"]\n",
    "    x_train = x_train.drop(labels=\"TARGET\", axis=1)\n",
    "    classes = np.sort(np.unique(y_train))\n",
    "    labels = [\"Satisfied\", \"Unsatisfied\"]\n",
    "    \n",
    "    #Normalize features to unit norm\n",
    "    x_train_norm = normalize(x_train, axis=0)\n",
    "    \n",
    "    # Run\n",
    "    pca = PCA(n_components=2)\n",
    "    x_train_proj = pca.fit_transform(x_train_norm)\n",
    "    \n",
    "    # Visuals\n",
    "    fig = plt.figure(figsize=(10,7))\n",
    "    ax = fig.add_subplot(1,1,1)\n",
    "    colors = [(0.0, 0.63, 0.69), 'black']\n",
    "    markers = [\"o\", \"D\"]\n",
    "    for class_ix, marker, color, label in zip(\n",
    "        classes, markers, colors, labels):\n",
    "        ax.scatter(x_train_proj[np.where(y_train == class_ix), 0],\n",
    "                  x_train_proj[np.where(y_train == class_ix), 1],\n",
    "                  marker=marker, color=color, edgecolor='whitesmoke',\n",
    "                  linewidth='1', alpha=0.9, label=label)\n",
    "        ax.legend(loc='best')\n",
    "    plt.title(\"Scatter of Training data Projected on 2 Principal Components\")\n",
    "    plt.xlabel(\"PCA 1 - Explains %.1f %% of the variance\" % (\n",
    "        pca.explained_variance_ratio_[0] * 100.0))\n",
    "    plt.ylabel(\"PCA 2 - Explains %.1f %% of the variance\" % (\n",
    "        pca.explained_variance_ratio_[1] * 100.0))\n",
    "    plt.show()\n",
    "    \n",
    "    # plt.savefig(\"pca.pdf\", format='pdf')\n",
    "    # plt.savefig(\"pca.png\", format='png')"
   ]
  },
  {
   "cell_type": "code",
   "execution_count": 4,
   "metadata": {
    "collapsed": true
   },
   "outputs": [],
   "source": [
    "# Remove feature vector with 1 unique value\n",
    "# deoesn't help with prediction\n",
    "def remove_const_feat(X):\n",
    "    print(\"Delete Zero Variance Features.\\n\")\n",
    "    \n",
    "    # Get 0 var features by fitting VarThresh to data\n",
    "    n_feat_orig = X.shape[1]\n",
    "    selector = VarianceThreshold()\n",
    "    selector.fit(X)\n",
    "    \n",
    "    #Get Zero Variance Indicies\n",
    "    idx_feat_keep = selector.get_support(indices=True)\n",
    "    idx_feat_orig = np.arange(X.columns.size)\n",
    "    idx_feat_delete = np.delete(idx_feat_orig, idx_feat_keep)\n",
    "    \n",
    "    # Delete Zero Var Feats\n",
    "    X = X.drop(labels=X.columns[idx_feat_delete], axis=1)\n",
    "    \n",
    "    # Print Actions\n",
    "    n_feat_delete = idx_feat_delete.size\n",
    "    print(\"Deleted %s / %s Features (~ %.1f %%)\" % (\n",
    "        n_feat_delete, n_feat_orig, \n",
    "        100.0 * (np.float(n_feat_delete) / n_feat_orig)))\n",
    "    \n",
    "    return X"
   ]
  },
  {
   "cell_type": "code",
   "execution_count": 5,
   "metadata": {
    "collapsed": false
   },
   "outputs": [
    {
     "name": "stdout",
     "output_type": "stream",
     "text": [
      "Delete Zero Variance Features.\n\n"
     ]
    },
    {
     "name": "stdout",
     "output_type": "stream",
     "text": [
      "Deleted 34 / 370 Features (~ 9.2 %)\n"
     ]
    }
   ],
   "source": [
    "# Removed Identical Deletion\n",
    "X = pd.read_csv('./Santander/train.csv', index_col=0, sep=',')\n",
    "X = remove_const_feat(X)\n",
    "pca_train_viz(X)"
   ]
  }
 ],
 "metadata": {
  "anaconda-cloud": {},
  "kernelspec": {
   "display_name": "Python 3",
   "language": "python",
   "name": "python3"
  },
  "language_info": {
   "codemirror_mode": {
    "name": "ipython",
    "version": 3.0
   },
   "file_extension": ".py",
   "mimetype": "text/x-python",
   "name": "python",
   "nbconvert_exporter": "python",
   "pygments_lexer": "ipython3",
   "version": "3.5.2"
  }
 },
 "nbformat": 4,
 "nbformat_minor": 0
}
{
 "cells": [
  {
   "cell_type": "markdown",
   "metadata": {},
   "source": [
    "# PCA Parameters\n",
    "<b>n_components</b> : Number of components to keep.<br>\n",
    "Use Minka's MLE if n_components='mle; & svd_solver=='full' to guess dimension.\n",
    "\n",
    "\n",
    "<b>copy</b> : Make copy of data, so it is not overwritten with fit. Use fit_transform otherwise.\n",
    "\n",
    "<b>whiten</b> : If true, components_ vectors are multiplied by sqrt(n_samples) and divided by singular values to ensure uncorrelated outputs with unit component--wise vectors.<br>\n",
    "<i>Warning:</i> Removes info, but can imporve preditive accuracy by making data respect hard-wired assumptions\n",
    "\n",
    "<b>svd_solver</b> : Singular Value Decomposition (Lower Dim. Projection Technique)\n",
    "\n",
    "<i>svd_solver</i>=='auto': Default policy based on X.shape and n_components. Randomized if large and n_components is < 80%. Else Full\n",
    "\n",
    "<i>svd_solver=='full'</i> : Number of components such that the amount of variance that needs to be explained is greater than % specified.\n",
    "\n",
    "<i>svd_solver=='randomized'</i> : Halko Method\n",
    "\n",
    "<b>iterated_power</b> : Number of iterations for power method computed by svd_solver == 'randomized'.\n",
    "\n",
    "<b>random_state</b> : Random Seed used by randomized.\n",
    "\n",
    "# PCA Attributes\n",
    "<b>components_</b> : Principal axes in feature space, represents directions of maximum variance in data.\n",
    "\n",
    "<b>explained__variance__</b> : Amount of variance explained by each of the selected components.\n",
    "\n",
    "<b>explained__variance_ratio__</b> : Percent of variance explained by each selected components.\n",
    "\n",
    "<b>mean_</b> : Estimated number of components. When set to mle or 0 < n_components < 1, number is estimated from input data. Otherwise it equals parameter n_components.\n",
    "\n",
    "<b>noise_variance</b> : Estimated noise covariance from Bishop PCA.\n"
   ]
  },
  {
   "cell_type": "code",
   "execution_count": 2,
   "metadata": {
    "collapsed": true
   },
   "outputs": [],
   "source": [
    "import pandas as pd\n",
    "import numpy as np\n",
    "from sklearn.decomposition import PCA"
   ]
  },
  {
   "cell_type": "code",
   "execution_count": null,
   "metadata": {
    "collapsed": true
   },
   "outputs": [],
   "source": [
    "# Interested in Feature space with > 99% Variance\n"
   ]
  }
 ],
 "metadata": {
  "anaconda-cloud": {},
  "kernelspec": {
   "display_name": "Python 3",
   "language": "python",
   "name": "python3"
  },
  "language_info": {
   "codemirror_mode": {
    "name": "ipython",
    "version": 3
   },
   "file_extension": ".py",
   "mimetype": "text/x-python",
   "name": "python",
   "nbconvert_exporter": "python",
   "pygments_lexer": "ipython3",
   "version": "3.5.2"
  }
 },
 "nbformat": 4,
 "nbformat_minor": 0
}

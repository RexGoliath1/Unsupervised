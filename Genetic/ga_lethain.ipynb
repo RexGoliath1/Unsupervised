{
 "cells": [
  {
   "cell_type": "markdown",
   "metadata": {},
   "source": [
    "## Imports"
   ]
  },
  {
   "cell_type": "code",
   "execution_count": 40,
   "metadata": {
    "collapsed": true
   },
   "outputs": [],
   "source": [
    "# Algorithm Imports\n",
    "from random import random, randint\n",
    "import numpy as np\n",
    "\n",
    "# Functional Mapping Imports\n",
    "from operator import add\n",
    "from functools import reduce"
   ]
  },
  {
   "cell_type": "markdown",
   "metadata": {},
   "source": [
    "## Test Individual Function\n",
    "Create population member"
   ]
  },
  {
   "cell_type": "code",
   "execution_count": 18,
   "metadata": {
    "collapsed": true
   },
   "outputs": [],
   "source": [
    "def individual(length, min, max):\n",
    "    return[randint(min,max) for x in np.arange(length)]\n"
   ]
  },
  {
   "cell_type": "code",
   "execution_count": 20,
   "metadata": {
    "collapsed": false
   },
   "outputs": [
    {
     "name": "stdout",
     "output_type": "stream",
     "text": [
      "[62, 89, 69, 26, 43] [33, 89, 40, 62, 81] [15, 17, 51, 82, 26]\n"
     ]
    }
   ],
   "source": [
    "print(individual(5, 0, 100),\n",
    "      individual(5, 0, 100),\n",
    "      individual(5, 0, 100))"
   ]
  },
  {
   "cell_type": "markdown",
   "metadata": {},
   "source": [
    "## Test Population Function\n",
    "Create number of individuals (i.e. population)\n",
    "* count: Number of individuals\n",
    "* length: number of values per individual\n",
    "* min: min value in individual list of values\n",
    "* max: max value in individual list of values\n"
   ]
  },
  {
   "cell_type": "code",
   "execution_count": 17,
   "metadata": {
    "collapsed": true
   },
   "outputs": [],
   "source": [
    "def population(count, length, min, max):    \n",
    "    return [individual(length, min, max) for x in np.arange(count)]\n"
   ]
  },
  {
   "cell_type": "code",
   "execution_count": 21,
   "metadata": {
    "collapsed": false
   },
   "outputs": [
    {
     "name": "stdout",
     "output_type": "stream",
     "text": [
      "[[77, 48, 73, 88, 25], [62, 80, 80, 94, 82], [81, 24, 78, 82, 34]]\n",
      "[[90, 3, 68, 2, 56], [12, 4, 1, 73, 88], [72, 93, 15, 97, 67]]\n",
      "[[26, 87, 36, 69, 28], [61, 53, 8, 93, 31], [87, 43, 60, 64, 74]]\n"
     ]
    }
   ],
   "source": [
    "print(population(3, 5, 0, 100))\n",
    "print(population(3, 5, 0, 100))\n",
    "print(population(3, 5, 0, 100))"
   ]
  },
  {
   "cell_type": "markdown",
   "metadata": {},
   "source": [
    "## Test Fitness Function\n",
    "Determine Individual Fitness  <b><font color='red'>(Lower is Better)</font></b>\n",
    "* individual: Individual Evaluated\n",
    "* target: Sum of numbers that individuals aim for"
   ]
  },
  {
   "cell_type": "code",
   "execution_count": 23,
   "metadata": {
    "collapsed": true
   },
   "outputs": [],
   "source": [
    "def fitness(individual, target):\n",
    "    sum = reduce(add, individual, 0)\n",
    "    return abs(target - sum)"
   ]
  },
  {
   "cell_type": "code",
   "execution_count": 27,
   "metadata": {
    "collapsed": false
   },
   "outputs": [
    {
     "name": "stdout",
     "output_type": "stream",
     "text": [
      "fitness =  142\n",
      "fitness =  54\n",
      "fitness =  34\n"
     ]
    }
   ],
   "source": [
    "x1 = individual(5, 0, 100)\n",
    "x2 = individual(5, 0, 100)\n",
    "x3 = individual(5, 0, 100)\n",
    "\n",
    "print('fitness = ', fitness(x1, 200))\n",
    "print('fitness = ', fitness(x2, 200))\n",
    "print('fitness = ', fitness(x3, 200))"
   ]
  },
  {
   "cell_type": "markdown",
   "metadata": {},
   "source": [
    "## Test Fitness Grading\n",
    "Average fitness of population"
   ]
  },
  {
   "cell_type": "code",
   "execution_count": 29,
   "metadata": {
    "collapsed": true
   },
   "outputs": [],
   "source": [
    "def grade(pop, target):\n",
    "    summed = reduce(add, (fitness(x, target) for x in pop), 0)\n",
    "    return summed / (len(pop) * 1.0)"
   ]
  },
  {
   "cell_type": "code",
   "execution_count": 30,
   "metadata": {
    "collapsed": false
   },
   "outputs": [
    {
     "name": "stdout",
     "output_type": "stream",
     "text": [
      "Grade =  22.333333333333332\n",
      "Grade =  77.66666666666667\n",
      "Grade =  37.666666666666664\n"
     ]
    }
   ],
   "source": [
    "x4 = population(3, 5, 0, 100)\n",
    "x5 = population(3, 5, 0, 100)\n",
    "x6 = population(3, 5, 0, 100)\n",
    "\n",
    "target = 200\n",
    "\n",
    "print('Grade = ', grade(x4, target))\n",
    "print('Grade = ', grade(x5, target))\n",
    "print('Grade = ', grade(x6, target))"
   ]
  },
  {
   "cell_type": "markdown",
   "metadata": {},
   "source": [
    "## Evolution (Promoting genetic diversity)\n",
    "1. For each generation, take a portion of best performing individuals judged by fitness function. Will be parents of next generation\n",
    "* Randomly select lesseer individuals to be parents to promote diversity\n",
    "* Can get stuck in local min/max\n",
    "* Decrease likelihood of getting stuck with diversity\n",
    "2. 'Breed Parents' to repopulate to desired sie\n",
    "* Take top 20 individuals in population of 100\n",
    "* Create 80 new children via breeding\n",
    "* N/2 digits from father, N/2 digits from mother\n",
    "\n",
    "<b><font color='red'>Important:</font></b>\n",
    "One parent may breed multiple times, but should never be both mother and father"
   ]
  },
  {
   "cell_type": "markdown",
   "metadata": {},
   "source": [
    "### Breed Example"
   ]
  },
  {
   "cell_type": "code",
   "execution_count": 39,
   "metadata": {
    "collapsed": false
   },
   "outputs": [
    {
     "name": "stdout",
     "output_type": "stream",
     "text": [
      "father:\t [1, 2, 3, 4, 5, 6]\n",
      "mother:\t [10, 20, 30, 40, 50, 60]\n",
      "child:\t [1, 2, 3, 40, 50, 60]\n"
     ]
    }
   ],
   "source": [
    "father = [1, 2, 3, 4, 5, 6]\n",
    "mother = [10, 20, 30, 40, 50 , 60]\n",
    "child = father[:3] + mother[3:]\n",
    "print('father:\\t', father)\n",
    "print('mother:\\t', mother)\n",
    "print('child:\\t', child)"
   ]
  },
  {
   "cell_type": "markdown",
   "metadata": {},
   "source": [
    "### Breed Function"
   ]
  },
  {
   "cell_type": "code",
   "execution_count": 63,
   "metadata": {
    "collapsed": true
   },
   "outputs": [],
   "source": [
    "def breed(pop, parents):\n",
    "    # Crossover parents to create children\n",
    "    parents_length = len(parents)\n",
    "    desired_length = len(pop) - parents_length\n",
    "    children = []\n",
    "    \n",
    "    while len(children) < desired_length:\n",
    "        male = randint(0, parents_length - 1)\n",
    "        female = randint(0, parents_length - 1)\n",
    "        if male != female:\n",
    "            male = parents[male]\n",
    "            female = parents[female]\n",
    "            \n",
    "            # Choose either M/F Floor\n",
    "            half = int(len(male) / 2)\n",
    "            child = male[:half] + female[half:]\n",
    "            children.append(child)\n",
    "    \n",
    "    return children"
   ]
  },
  {
   "cell_type": "markdown",
   "metadata": {},
   "source": [
    "### Mutate Function"
   ]
  },
  {
   "cell_type": "code",
   "execution_count": 56,
   "metadata": {
    "collapsed": false
   },
   "outputs": [],
   "source": [
    "# Mutate\n",
    "def mutate(population, chance_to_mutate):\n",
    "#     chance_to_mutate = 0.01\n",
    "    for i in population:\n",
    "        if chance_to_mutate > random():\n",
    "            place_to_modify = randint(0, len(i) - 1)\n",
    "            # Not Ideal: Restricts range of values\n",
    "            # Function is unaware of individual min/max values\n",
    "            i[place_to_modify] = randint(min(i), max(i))"
   ]
  },
  {
   "cell_type": "markdown",
   "metadata": {},
   "source": [
    "### Evolve (1 Generation)"
   ]
  },
  {
   "cell_type": "code",
   "execution_count": 57,
   "metadata": {
    "collapsed": true
   },
   "outputs": [],
   "source": [
    "# Evolve (Breed, Merge, Mutate)\n",
    "def evolve(pop, target, retain, random_select, chance_to_mutate):\n",
    "    # Run Fitness on Population, Sort by Fitness\n",
    "    # Select Parents from population with highest fitness\n",
    "    graded = [(fitness(x, target), x) for x in pop]\n",
    "    graded = [x[1] for x in sorted(graded)]\n",
    "    retain_length = int(len(graded) * retain)\n",
    "    parents = graded[:retain_length]\n",
    "    \n",
    "    # Randomly add other individuals to promote genetic diversity\n",
    "    for individual in graded[retain_length:]:\n",
    "        if random_select > random():\n",
    "            parents.append(individual)\n",
    "    \n",
    "    # Mutate some individuals\n",
    "    mutate(pop, chance_to_mutate)\n",
    "    \n",
    "    # Crossover parents to create children\n",
    "    children = breed(pop, parents)\n",
    "    parents.extend(children)\n",
    "    \n",
    "    return parents "
   ]
  },
  {
   "cell_type": "markdown",
   "metadata": {},
   "source": [
    "## Testing it Out"
   ]
  },
  {
   "cell_type": "code",
   "execution_count": 64,
   "metadata": {
    "collapsed": false
   },
   "outputs": [
    {
     "name": "stdout",
     "output_type": "stream",
     "text": [
      "123.75\n",
      "52.78\n",
      "33.06\n",
      "25.84\n",
      "20.35\n",
      "17.75\n",
      "4.69\n",
      "3.47\n",
      "0.56\n",
      "0.45\n",
      "0.65\n",
      "0.7\n",
      "0.1\n",
      "0.15\n",
      "0.5\n",
      "0.6\n",
      "0.55\n",
      "0.25\n",
      "0.85\n",
      "1.0\n",
      "1.45\n",
      "1.95\n",
      "1.65\n",
      "1.45\n",
      "0.42\n",
      "0.12\n",
      "0.0\n",
      "0.0\n",
      "0.42\n",
      "0.42\n",
      "0.0\n",
      "0.34\n",
      "0.21\n",
      "0.0\n",
      "0.0\n",
      "0.0\n",
      "0.0\n",
      "0.0\n",
      "0.86\n",
      "0.0\n",
      "0.0\n",
      "0.0\n",
      "0.0\n",
      "0.0\n",
      "0.0\n",
      "0.0\n",
      "0.0\n",
      "0.76\n",
      "0.0\n",
      "0.0\n",
      "0.0\n",
      "0.0\n",
      "0.0\n",
      "0.0\n",
      "0.44\n",
      "0.0\n",
      "0.0\n",
      "0.0\n",
      "0.0\n",
      "0.72\n",
      "0.28\n",
      "0.2\n",
      "0.12\n",
      "0.0\n",
      "0.36\n",
      "0.08\n",
      "0.0\n",
      "0.06\n",
      "0.0\n",
      "0.0\n",
      "0.0\n",
      "0.0\n",
      "0.0\n",
      "2.22\n",
      "0.0\n",
      "0.23\n",
      "0.0\n",
      "2.05\n",
      "0.0\n",
      "0.24\n",
      "0.0\n",
      "0.0\n",
      "0.0\n",
      "0.0\n",
      "4.94\n",
      "1.32\n",
      "0.0\n",
      "0.0\n",
      "0.0\n",
      "0.0\n",
      "0.54\n",
      "1.08\n",
      "0.9\n",
      "1.0\n",
      "0.8\n",
      "0.0\n",
      "0.0\n",
      "0.0\n",
      "0.0\n",
      "0.0\n",
      "0.0\n"
     ]
    }
   ],
   "source": [
    "target = 371 # Fitness Target\n",
    "p_count = 100 # Population Count\n",
    "retain = 0.2 # Greatest Fitness percent to retain\n",
    "random_select = 0.05 # Percent Chance of random addition (diverstiy)\n",
    "chance_to_mutate = 0.01 # Percent Chance of inidividual mutation\n",
    "\n",
    "i_length = 5\n",
    "i_min = 0\n",
    "i_max = 100\n",
    "\n",
    "p = population(p_count, i_length, i_min, i_max)\n",
    "fitness_history = [grade(p, target),]\n",
    "\n",
    "for i in np.arange(100):\n",
    "    p = evolve(p, target, retain, random_select, chance_to_mutate)\n",
    "    fitness_history.append(grade(p, target))\n",
    "    \n",
    "for datum in fitness_history:\n",
    "    print(datum)"
   ]
  }
 ],
 "metadata": {
  "anaconda-cloud": {},
  "kernelspec": {
   "display_name": "Python 3",
   "language": "python",
   "name": "python3"
  },
  "language_info": {
   "codemirror_mode": {
    "name": "ipython",
    "version": 3
   },
   "file_extension": ".py",
   "mimetype": "text/x-python",
   "name": "python",
   "nbconvert_exporter": "python",
   "pygments_lexer": "ipython3",
   "version": "3.5.2"
  }
 },
 "nbformat": 4,
 "nbformat_minor": 1
}

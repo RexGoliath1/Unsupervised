{
 "cells": [
  {
   "cell_type": "markdown",
   "metadata": {},
   "source": [
    "## Imports"
   ]
  },
  {
   "cell_type": "code",
   "execution_count": 25,
   "metadata": {
    "collapsed": true
   },
   "outputs": [],
   "source": [
    "# Algorithm Imports\n",
    "from random import randint\n",
    "import numpy as np\n",
    "\n",
    "# Functional Mapping Imports\n",
    "from operator import add\n",
    "from functools import reduce"
   ]
  },
  {
   "cell_type": "markdown",
   "metadata": {},
   "source": [
    "## Test Individual Function\n",
    "Create population member"
   ]
  },
  {
   "cell_type": "code",
   "execution_count": 18,
   "metadata": {
    "collapsed": true
   },
   "outputs": [],
   "source": [
    "def individual(length, min, max):\n",
    "    return[randint(min,max) for x in np.arange(length)]\n"
   ]
  },
  {
   "cell_type": "code",
   "execution_count": 20,
   "metadata": {
    "collapsed": false
   },
   "outputs": [
    {
     "name": "stdout",
     "output_type": "stream",
     "text": [
      "[62, 89, 69, 26, 43] [33, 89, 40, 62, 81] [15, 17, 51, 82, 26]\n"
     ]
    }
   ],
   "source": [
    "print(individual(5, 0, 100),\n",
    "      individual(5, 0, 100),\n",
    "      individual(5, 0, 100))"
   ]
  },
  {
   "cell_type": "markdown",
   "metadata": {},
   "source": [
    "## Test Population Function\n",
    "Create number of individuals (i.e. population)\n",
    "* count: Number of individuals\n",
    "* length: number of values per individual\n",
    "* min: min value in individual list of values\n",
    "* max: max value in individual list of values\n"
   ]
  },
  {
   "cell_type": "code",
   "execution_count": 17,
   "metadata": {
    "collapsed": true
   },
   "outputs": [],
   "source": [
    "def population(count, length, min, max):    \n",
    "    return [individual(length, min, max) for x in np.arange(count)]\n"
   ]
  },
  {
   "cell_type": "code",
   "execution_count": 21,
   "metadata": {
    "collapsed": false
   },
   "outputs": [
    {
     "name": "stdout",
     "output_type": "stream",
     "text": [
      "[[77, 48, 73, 88, 25], [62, 80, 80, 94, 82], [81, 24, 78, 82, 34]]\n",
      "[[90, 3, 68, 2, 56], [12, 4, 1, 73, 88], [72, 93, 15, 97, 67]]\n",
      "[[26, 87, 36, 69, 28], [61, 53, 8, 93, 31], [87, 43, 60, 64, 74]]\n"
     ]
    }
   ],
   "source": [
    "print(population(3, 5, 0, 100))\n",
    "print(population(3, 5, 0, 100))\n",
    "print(population(3, 5, 0, 100))"
   ]
  },
  {
   "cell_type": "markdown",
   "metadata": {},
   "source": [
    "## Test Fitness Function\n",
    "Determine Individual Fitness  <b><font color='red'>(Lower is Better)</font></b>\n",
    "* individual: Individual Evaluated\n",
    "* target: Sum of numbers that individuals aim for"
   ]
  },
  {
   "cell_type": "code",
   "execution_count": 23,
   "metadata": {
    "collapsed": true
   },
   "outputs": [],
   "source": [
    "def fitness(individual, target):\n",
    "    sum = reduce(add, individual, 0)\n",
    "    return abs(target - sum)"
   ]
  },
  {
   "cell_type": "code",
   "execution_count": 27,
   "metadata": {
    "collapsed": false
   },
   "outputs": [
    {
     "name": "stdout",
     "output_type": "stream",
     "text": [
      "fitness =  142\n",
      "fitness =  54\n",
      "fitness =  34\n"
     ]
    }
   ],
   "source": [
    "x1 = individual(5, 0, 100)\n",
    "x2 = individual(5, 0, 100)\n",
    "x3 = individual(5, 0, 100)\n",
    "\n",
    "print('fitness = ', fitness(x1, 200))\n",
    "print('fitness = ', fitness(x2, 200))\n",
    "print('fitness = ', fitness(x3, 200))"
   ]
  },
  {
   "cell_type": "markdown",
   "metadata": {},
   "source": [
    "## Test Fitness Grading\n",
    "Average fitness of population"
   ]
  },
  {
   "cell_type": "code",
   "execution_count": 29,
   "metadata": {
    "collapsed": true
   },
   "outputs": [],
   "source": [
    "def grade(pop, target):\n",
    "    summed = reduce(add, (fitness(x, target) for x in pop), 0)\n",
    "    return summed / (len(pop) * 1.0)"
   ]
  },
  {
   "cell_type": "code",
   "execution_count": 30,
   "metadata": {
    "collapsed": false
   },
   "outputs": [
    {
     "name": "stdout",
     "output_type": "stream",
     "text": [
      "Grade =  22.333333333333332\n",
      "Grade =  77.66666666666667\n",
      "Grade =  37.666666666666664\n"
     ]
    }
   ],
   "source": [
    "x4 = population(3, 5, 0, 100)\n",
    "x5 = population(3, 5, 0, 100)\n",
    "x6 = population(3, 5, 0, 100)\n",
    "\n",
    "target = 200\n",
    "\n",
    "print('Grade = ', grade(x4, target))\n",
    "print('Grade = ', grade(x5, target))\n",
    "print('Grade = ', grade(x6, target))"
   ]
  }
 ],
 "metadata": {
  "anaconda-cloud": {},
  "kernelspec": {
   "display_name": "Python 3",
   "language": "python",
   "name": "python3"
  },
  "language_info": {
   "codemirror_mode": {
    "name": "ipython",
    "version": 3
   },
   "file_extension": ".py",
   "mimetype": "text/x-python",
   "name": "python",
   "nbconvert_exporter": "python",
   "pygments_lexer": "ipython3",
   "version": "3.5.2"
  }
 },
 "nbformat": 4,
 "nbformat_minor": 1
}
